{
 "cells": [
  {
   "cell_type": "code",
   "execution_count": 4,
   "metadata": {},
   "outputs": [],
   "source": [
    "from IPython.display import display, HTML\n",
    "\n",
    "import pandas as pd\n",
    "import numpy as np\n",
    "\n",
    "from jinja2 import Template\n",
    "\n",
    "from bokeh.models import (\n",
    "    ColumnDataSource, Plot, Circle, Range1d, \n",
    "    LinearAxis, HoverTool, Text,\n",
    "    SingleIntervalTicker, Slider, CustomJS\n",
    ")\n",
    "from bokeh.palettes import Spectral6\n",
    "from bokeh.resources import JSResources\n",
    "from bokeh.embed import file_html\n"
   ]
  },
  {
   "cell_type": "markdown",
   "metadata": {},
   "source": [
    "### Setting up the data\n",
    "The plot animates with the slider showing the data over time from 1964 to 2013. We can think of each year as a seperate static plot, and when the slider moves, we use the Callback to change the data source that is driving the plot.\n",
    "\n",
    "We could use bokeh-server to drive this change, but as the data is not too big we can also pass all the datasets to the javascript at once and switch between them on the client side.\n",
    "\n",
    "This means that we need to build one data source for each year that we have data for and are going to switch between using the slider. We build them and add them to a dictionary `sources` that holds them under a key that is the name of the year preficed with a `_`."
   ]
  },
  {
   "cell_type": "code",
   "execution_count": 26,
   "metadata": {},
   "outputs": [
    {
     "name": "stdout",
     "output_type": "stream",
     "text": [
      "            A     x         y       C           D\n",
      "0  2016-01-01   0.0  4.704095     Low  106.542170\n",
      "1  2016-01-02   1.0  0.401594  Medium   90.153512\n",
      "2  2016-01-03   2.0  5.589665  Medium  100.282395\n",
      "3  2016-01-04   3.0  2.365791  Medium   88.355333\n",
      "4  2016-01-05   4.0  3.730107  Medium  101.345031\n",
      "5  2016-01-06   5.0  8.829996  Medium   97.694567\n",
      "6  2016-01-07   6.0  0.102004    High   98.353313\n",
      "7  2016-01-08   7.0  9.799471  Medium  115.070255\n",
      "8  2016-01-09   8.0  8.716373     Low   82.715638\n",
      "9  2016-01-10   9.0  6.136447    High  107.131664\n",
      "10 2016-01-11  10.0  0.881107     Low   95.771823\n",
      "11 2016-01-12  11.0  3.807441  Medium  105.629708\n",
      "12 2016-01-13  12.0  8.981860    High   99.230754\n",
      "13 2016-01-14  13.0  2.839425    High  100.090949\n",
      "14 2016-01-15  14.0  1.378741    High   88.065075\n",
      "15 2016-01-16  15.0  6.487007  Medium   98.364495\n",
      "16 2016-01-17  16.0  2.793814     Low  101.208814\n",
      "17 2016-01-18  17.0  9.626190    High   99.895669\n",
      "18 2016-01-19  18.0  9.428074     Low  116.198111\n",
      "19 2016-01-20  19.0  8.683136     Low   97.043192\n"
     ]
    }
   ],
   "source": [
    "N=20\n",
    "\n",
    "df = pd.DataFrame({\n",
    "   'A': pd.date_range(start='2016-01-01',periods=N,freq='D'),\n",
    "   'x': np.linspace(0,stop=N-1,num=N),\n",
    "   'y': np.random.rand(N)*10,\n",
    "   'C': np.random.choice(['Low','Medium','High'],N).tolist(),\n",
    "   'D': np.random.normal(100, 10, size=(N)).tolist()\n",
    "})\n",
    "\n",
    "print(df)"
   ]
  },
  {
   "cell_type": "code",
   "execution_count": 44,
   "metadata": {},
   "outputs": [
    {
     "name": "stdout",
     "output_type": "stream",
     "text": [
      "       col1      col2      col3      col4      col5\n",
      "0  0.714586  0.598491  0.121225  0.098260  0.885227\n",
      "1  0.329456  0.814211  0.142805  0.280778  0.965179\n",
      "2  0.034782  0.494071  0.491013  0.489423  0.926528\n",
      "3  0.250434  0.002202  0.450860  0.674963  0.134178\n",
      "4  0.160681  0.856028  0.993905  0.481675  0.192064\n",
      "       col1      col2      col3      col4      col5\n",
      "0  7.145862  5.984910  1.212251  0.982603  8.852270\n",
      "1  3.294561  8.142106  1.428048  2.807784  9.651794\n",
      "2  0.347824  4.940711  4.910133  4.894230  9.265282\n",
      "3  2.504338  0.022016  4.508600  6.749629  1.341780\n",
      "4  1.606808  8.560277  9.939054  4.816747  1.920636\n",
      "0 \n",
      " col1    7.145862\n",
      "col2    5.984910\n",
      "col3    1.212251\n",
      "col4    0.982603\n",
      "col5    8.852270\n",
      "Name: 0, dtype: float64\n",
      "1 \n",
      " col1    3.294561\n",
      "col2    8.142106\n",
      "col3    1.428048\n",
      "col4    2.807784\n",
      "col5    9.651794\n",
      "Name: 1, dtype: float64\n",
      "2 \n",
      " col1    0.347824\n",
      "col2    4.940711\n",
      "col3    4.910133\n",
      "col4    4.894230\n",
      "col5    9.265282\n",
      "Name: 2, dtype: float64\n",
      "3 \n",
      " col1    2.504338\n",
      "col2    0.022016\n",
      "col3    4.508600\n",
      "col4    6.749629\n",
      "col5    1.341780\n",
      "Name: 3, dtype: float64\n",
      "4 \n",
      " col1    1.606808\n",
      "col2    8.560277\n",
      "col3    9.939054\n",
      "col4    4.816747\n",
      "col5    1.920636\n",
      "Name: 4, dtype: float64\n",
      "           col1      col2      col3      col4      col5\n",
      "count  5.000000  5.000000  5.000000  5.000000  5.000000\n",
      "mean   2.979879  5.530004  4.399617  4.050199  6.206352\n",
      "std    2.573597  3.424097  3.533673  2.210240  4.191074\n",
      "min    0.347824  0.022016  1.212251  0.982603  1.341780\n",
      "25%    1.606808  4.940711  1.428048  2.807784  1.920636\n",
      "50%    2.504338  5.984910  4.508600  4.816747  8.852270\n",
      "75%    3.294561  8.142106  4.910133  4.894230  9.265282\n",
      "max    7.145862  8.560277  9.939054  6.749629  9.651794\n"
     ]
    }
   ],
   "source": [
    "data = np.random.rand(5,5)\n",
    "colheaders = ['col1','col2','col3','col4','col5']\n",
    "pdf = pd.DataFrame(data, columns=colheaders)\n",
    "print(pdf)\n",
    "\n",
    "def mult(ele1,ele2,ele3):\n",
    "   return ele1*(ele2+ele3)\n",
    "pdf = pdf.pipe(mult,10,0)\n",
    "print(pdf)\n",
    "\n",
    "for row_index,row in pdf.iterrows():\n",
    "   print (row_index,'\\n',row)\n",
    "\n",
    "desc = pdf.describe()\n",
    "print(desc)\n",
    "\n"
   ]
  },
  {
   "cell_type": "code",
   "execution_count": 37,
   "metadata": {},
   "outputs": [
    {
     "name": "stdout",
     "output_type": "stream",
     "text": [
      "id              540\n",
      "domain_id         0\n",
      "org_id            0\n",
      "created_at      540\n",
      "updated_at      540\n",
      "deleted_at        0\n",
      "task_guid         3\n",
      "alias_ref         4\n",
      "purpose           4\n",
      "description       4\n",
      "task_state        3\n",
      "rule_id         135\n",
      "rule_root_id    135\n",
      "inputs           87\n",
      "outputs         205\n",
      "dtype: int64\n"
     ]
    },
    {
     "data": {
      "text/html": [
       "<div>\n",
       "<style scoped>\n",
       "    .dataframe tbody tr th:only-of-type {\n",
       "        vertical-align: middle;\n",
       "    }\n",
       "\n",
       "    .dataframe tbody tr th {\n",
       "        vertical-align: top;\n",
       "    }\n",
       "\n",
       "    .dataframe thead th {\n",
       "        text-align: right;\n",
       "    }\n",
       "</style>\n",
       "<table border=\"1\" class=\"dataframe\">\n",
       "  <thead>\n",
       "    <tr style=\"text-align: right;\">\n",
       "      <th></th>\n",
       "      <th>id</th>\n",
       "      <th>domain_id</th>\n",
       "      <th>org_id</th>\n",
       "      <th>created_at</th>\n",
       "      <th>updated_at</th>\n",
       "      <th>deleted_at</th>\n",
       "      <th>task_guid</th>\n",
       "      <th>alias_ref</th>\n",
       "      <th>purpose</th>\n",
       "      <th>description</th>\n",
       "      <th>task_state</th>\n",
       "      <th>rule_id</th>\n",
       "      <th>rule_root_id</th>\n",
       "      <th>inputs</th>\n",
       "      <th>outputs</th>\n",
       "    </tr>\n",
       "  </thead>\n",
       "  <tbody>\n",
       "    <tr>\n",
       "      <th>0</th>\n",
       "      <td>646ecf68-7ed2-4010-8d4a-d001391a4f0d</td>\n",
       "      <td>NaN</td>\n",
       "      <td>NaN</td>\n",
       "      <td>2018-09-21 21:26:59.883982+00</td>\n",
       "      <td>2018-09-21 21:27:08.740501+00</td>\n",
       "      <td>NaN</td>\n",
       "      <td>8fe8ece7-c997-d3f4-fc01-000000000000</td>\n",
       "      <td>t2</td>\n",
       "      <td>Generate Odoo Accounting Users Data</td>\n",
       "      <td>Fetch the list of Accounting users from the Odoo</td>\n",
       "      <td>3</td>\n",
       "      <td>0ccbf5a4-4580-4c3e-ab4f-148815c64ca9</td>\n",
       "      <td>0ccbf5a4-4580-4c3e-ab4f-148815c64ca9</td>\n",
       "      <td>{\"BucketName\":\"demo\",\"InputFileType\":\"AccountU...</td>\n",
       "      <td>{\"error\":\"open AccountUsers-1537565227.csv: no...</td>\n",
       "    </tr>\n",
       "    <tr>\n",
       "      <th>1</th>\n",
       "      <td>105e3d7c-5774-42cc-a2ae-9479d2fbaa62</td>\n",
       "      <td>NaN</td>\n",
       "      <td>NaN</td>\n",
       "      <td>2018-09-18 00:08:56.091309+00</td>\n",
       "      <td>2018-09-18 00:09:05.30732+00</td>\n",
       "      <td>NaN</td>\n",
       "      <td>8fe8ece7-c997-d3f4-fc01-000000000000</td>\n",
       "      <td>t2</td>\n",
       "      <td>Generate Odoo Accounting Users Data</td>\n",
       "      <td>Fetch the list of Accounting users from the Odoo</td>\n",
       "      <td>3</td>\n",
       "      <td>cc22e544-2e2d-43b3-b7f4-80b4589a104d</td>\n",
       "      <td>cc22e544-2e2d-43b3-b7f4-80b4589a104d</td>\n",
       "      <td>{\"BucketName\":\"demo\",\"InputFileType\":\"AccountU...</td>\n",
       "      <td>{\"BucketName\":\"demo\",\"FileName\":\"AccountUsers-...</td>\n",
       "    </tr>\n",
       "  </tbody>\n",
       "</table>\n",
       "</div>"
      ],
      "text/plain": [
       "                                     id  domain_id  org_id  \\\n",
       "0  646ecf68-7ed2-4010-8d4a-d001391a4f0d        NaN     NaN   \n",
       "1  105e3d7c-5774-42cc-a2ae-9479d2fbaa62        NaN     NaN   \n",
       "\n",
       "                      created_at                     updated_at  deleted_at  \\\n",
       "0  2018-09-21 21:26:59.883982+00  2018-09-21 21:27:08.740501+00         NaN   \n",
       "1  2018-09-18 00:08:56.091309+00   2018-09-18 00:09:05.30732+00         NaN   \n",
       "\n",
       "                              task_guid alias_ref  \\\n",
       "0  8fe8ece7-c997-d3f4-fc01-000000000000        t2   \n",
       "1  8fe8ece7-c997-d3f4-fc01-000000000000        t2   \n",
       "\n",
       "                               purpose  \\\n",
       "0  Generate Odoo Accounting Users Data   \n",
       "1  Generate Odoo Accounting Users Data   \n",
       "\n",
       "                                        description  task_state  \\\n",
       "0  Fetch the list of Accounting users from the Odoo           3   \n",
       "1  Fetch the list of Accounting users from the Odoo           3   \n",
       "\n",
       "                                rule_id                          rule_root_id  \\\n",
       "0  0ccbf5a4-4580-4c3e-ab4f-148815c64ca9  0ccbf5a4-4580-4c3e-ab4f-148815c64ca9   \n",
       "1  cc22e544-2e2d-43b3-b7f4-80b4589a104d  cc22e544-2e2d-43b3-b7f4-80b4589a104d   \n",
       "\n",
       "                                              inputs  \\\n",
       "0  {\"BucketName\":\"demo\",\"InputFileType\":\"AccountU...   \n",
       "1  {\"BucketName\":\"demo\",\"InputFileType\":\"AccountU...   \n",
       "\n",
       "                                             outputs  \n",
       "0  {\"error\":\"open AccountUsers-1537565227.csv: no...  \n",
       "1  {\"BucketName\":\"demo\",\"FileName\":\"AccountUsers-...  "
      ]
     },
     "execution_count": 37,
     "metadata": {},
     "output_type": "execute_result"
    }
   ],
   "source": [
    "# data = pd.read_csv('assets/gapminder.csv', index_col=\"Year\", thousands=\",\")\n",
    "dfRuleTaskModels = pd.read_csv('assets/rule_task_models.csv')\n",
    "print(dfRuleTaskModels.nunique())\n",
    "dfRuleTaskModels.head(2)\n",
    "\n"
   ]
  },
  {
   "cell_type": "code",
   "execution_count": 31,
   "metadata": {
    "scrolled": true
   },
   "outputs": [
    {
     "ename": "NameError",
     "evalue": "name 'process_data' is not defined",
     "output_type": "error",
     "traceback": [
      "\u001b[0;31m---------------------------------------------------------------------------\u001b[0m",
      "\u001b[0;31mNameError\u001b[0m                                 Traceback (most recent call last)",
      "\u001b[0;32m<ipython-input-31-2034e211de2e>\u001b[0m in \u001b[0;36m<module>\u001b[0;34m()\u001b[0m\n\u001b[0;32m----> 1\u001b[0;31m \u001b[0mfertility_df\u001b[0m\u001b[0;34m,\u001b[0m \u001b[0mlife_expectancy_df\u001b[0m\u001b[0;34m,\u001b[0m \u001b[0mpopulation_df_size\u001b[0m\u001b[0;34m,\u001b[0m \u001b[0mregions_df\u001b[0m\u001b[0;34m,\u001b[0m \u001b[0myears\u001b[0m\u001b[0;34m,\u001b[0m \u001b[0mregions\u001b[0m \u001b[0;34m=\u001b[0m \u001b[0mprocess_data\u001b[0m\u001b[0;34m(\u001b[0m\u001b[0;34m)\u001b[0m\u001b[0;34m\u001b[0m\u001b[0m\n\u001b[0m\u001b[1;32m      2\u001b[0m \u001b[0;34m\u001b[0m\u001b[0m\n\u001b[1;32m      3\u001b[0m \u001b[0msources\u001b[0m \u001b[0;34m=\u001b[0m \u001b[0;34m{\u001b[0m\u001b[0;34m}\u001b[0m\u001b[0;34m\u001b[0m\u001b[0m\n\u001b[1;32m      4\u001b[0m \u001b[0;34m\u001b[0m\u001b[0m\n\u001b[1;32m      5\u001b[0m \u001b[0mregion_color\u001b[0m \u001b[0;34m=\u001b[0m \u001b[0mregions_df\u001b[0m\u001b[0;34m[\u001b[0m\u001b[0;34m'region_color'\u001b[0m\u001b[0;34m]\u001b[0m\u001b[0;34m\u001b[0m\u001b[0m\n",
      "\u001b[0;31mNameError\u001b[0m: name 'process_data' is not defined"
     ]
    }
   ],
   "source": [
    "fertility_df, life_expectancy_df, population_df_size, regions_df, years, regions = process_data()\n",
    "\n",
    "sources = {}\n",
    "\n",
    "region_color = regions_df['region_color']\n",
    "region_color.name = 'region_color'\n",
    "\n",
    "for year in years:\n",
    "    fertility = fertility_df[year]\n",
    "    fertility.name = 'fertility'\n",
    "    life = life_expectancy_df[year]\n",
    "    life.name = 'life' \n",
    "    population = population_df_size[year]\n",
    "    population.name = 'population' \n",
    "    new_df = pd.concat([fertility, life, population, region_color], axis=1)\n",
    "    sources['_' + str(year)] = ColumnDataSource(new_df)"
   ]
  },
  {
   "cell_type": "markdown",
   "metadata": {},
   "source": [
    "sources looks like this\n",
    "\n",
    "```\n",
    "{'_1964': <bokeh.models.sources.ColumnDataSource at 0x7f7e7d165cc0>,\n",
    " '_1965': <bokeh.models.sources.ColumnDataSource at 0x7f7e7d165b00>,\n",
    " '_1966': <bokeh.models.sources.ColumnDataSource at 0x7f7e7d1656a0>,\n",
    " '_1967': <bokeh.models.sources.ColumnDataSource at 0x7f7e7d165ef0>,\n",
    " '_1968': <bokeh.models.sources.ColumnDataSource at 0x7f7e7e9dac18>,\n",
    " '_1969': <bokeh.models.sources.ColumnDataSource at 0x7f7e7e9da9b0>,\n",
    " '_1970': <bokeh.models.sources.ColumnDataSource at 0x7f7e7e9da668>,\n",
    " '_1971': <bokeh.models.sources.ColumnDataSource at 0x7f7e7e9da0f0>...\n",
    "\n",
    "```\n",
    " \n",
    "We will pass this dictionary to the Callback. In doing so, we will find that in our javascript we have an object called, for example _1964 that refers to our ColumnDataSource. Note that we needed the prefixing _ as JS objects cannot begin with a number.\n",
    "\n",
    "Finally we construct a string that we can insert into our javascript code to define an object.\n",
    "\n",
    "The string looks like this: `{1962: _1962, 1963: _1963, ....}`\n",
    "\n",
    "Note the keys of this object are integers and the values are the references to our ColumnDataSources from above. So that now, in our JS code, we have an object that's storing all of our ColumnDataSources and we can look them up. "
   ]
  },
  {
   "cell_type": "code",
   "execution_count": 3,
   "metadata": {
    "scrolled": true
   },
   "outputs": [],
   "source": [
    "dictionary_of_sources = dict(zip([x for x in years], ['_%s' % x for x in years]))\n",
    "js_source_array = str(dictionary_of_sources).replace(\"'\", \"\")"
   ]
  },
  {
   "cell_type": "markdown",
   "metadata": {},
   "source": [
    "### Build the plot"
   ]
  },
  {
   "cell_type": "code",
   "execution_count": 4,
   "metadata": {
    "collapsed": true
   },
   "outputs": [],
   "source": [
    "# Set up the plot\n",
    "xdr = Range1d(1, 9)\n",
    "ydr = Range1d(20, 100)\n",
    "plot = Plot(\n",
    "    x_range=xdr,\n",
    "    y_range=ydr,\n",
    "    title=\"\",\n",
    "    plot_width=800,\n",
    "    plot_height=400,\n",
    "    outline_line_color=None,\n",
    "    toolbar_location=None,    \n",
    ")\n",
    "AXIS_FORMATS = dict(\n",
    "    minor_tick_in=None,\n",
    "    minor_tick_out=None,\n",
    "    major_tick_in=None,\n",
    "    major_label_text_font_size=\"10pt\",\n",
    "    major_label_text_font_style=\"normal\",\n",
    "    axis_label_text_font_size=\"10pt\",\n",
    "\n",
    "    axis_line_color='#AAAAAA',\n",
    "    major_tick_line_color='#AAAAAA',\n",
    "    major_label_text_color='#666666',\n",
    "\n",
    "    major_tick_line_cap=\"round\",\n",
    "    axis_line_cap=\"round\",\n",
    "    axis_line_width=1,\n",
    "    major_tick_line_width=1,\n",
    ")\n",
    "\n",
    "xaxis = LinearAxis(SingleIntervalTicker(interval=1), axis_label=\"Children per woman (total fertility)\", **AXIS_FORMATS)\n",
    "yaxis = LinearAxis(SingleIntervalTicker(interval=20), axis_label=\"Life expectancy at birth (years)\", **AXIS_FORMATS)   \n",
    "plot.add_layout(xaxis, 'below')\n",
    "plot.add_layout(yaxis, 'left')"
   ]
  },
  {
   "cell_type": "markdown",
   "metadata": {},
   "source": [
    "### Add the background year text\n",
    "We add this first so it is below all the other glyphs"
   ]
  },
  {
   "cell_type": "code",
   "execution_count": 5,
   "metadata": {},
   "outputs": [
    {
     "data": {
      "text/plain": [
       "<bokeh.models.renderers.GlyphRenderer at 0x7fd2ff1cae48>"
      ]
     },
     "execution_count": 5,
     "metadata": {},
     "output_type": "execute_result"
    }
   ],
   "source": [
    "# Add the year in background (add before circle)\n",
    "text_source = ColumnDataSource({'year': ['%s' % years[0]]})\n",
    "text = Text(x=2, y=35, text='year', text_font_size='150pt', text_color='#EEEEEE')\n",
    "plot.add_glyph(text_source, text)"
   ]
  },
  {
   "cell_type": "markdown",
   "metadata": {},
   "source": [
    "### Add the bubbles and hover\n",
    "We add the bubbles using the Circle glyph. We start from the first year of data and that is our source that drives the circles (the other sources will be used later).\n",
    "\n",
    "plot.add_glyph returns the renderer, and we pass this to the HoverTool so that hover only happens for the bubbles on the page and not other glyph elements."
   ]
  },
  {
   "cell_type": "code",
   "execution_count": 6,
   "metadata": {
    "collapsed": true
   },
   "outputs": [],
   "source": [
    "# Add the circle\n",
    "renderer_source = sources['_%s' % years[0]]\n",
    "circle_glyph = Circle(\n",
    "    x='fertility', y='life', size='population',\n",
    "    fill_color='region_color', fill_alpha=0.8, \n",
    "    line_color='#7c7e71', line_width=0.5, line_alpha=0.5)\n",
    "circle_renderer = plot.add_glyph(renderer_source, circle_glyph)\n",
    "\n",
    "# Add the hover (only against the circle and not other plot elements)\n",
    "tooltips = \"@index\"\n",
    "plot.add_tools(HoverTool(tooltips=tooltips, renderers=[circle_renderer]))"
   ]
  },
  {
   "cell_type": "markdown",
   "metadata": {},
   "source": [
    "### Add the legend\n",
    "\n",
    "Finally we manually build the legend by adding circles and texts to the upper-right portion of the plot."
   ]
  },
  {
   "cell_type": "code",
   "execution_count": 7,
   "metadata": {},
   "outputs": [],
   "source": [
    "text_x = 7\n",
    "text_y = 95\n",
    "for i, region in enumerate(regions):\n",
    "    plot.add_glyph(Text(x=text_x, y=text_y, text=[region], text_font_size='10pt', text_color='#666666'))\n",
    "    plot.add_glyph(Circle(x=text_x - 0.1, y=text_y + 2, fill_color=Spectral6[i], size=10, line_color=None, fill_alpha=0.8))\n",
    "    text_y = text_y - 5 "
   ]
  },
  {
   "cell_type": "markdown",
   "metadata": {},
   "source": [
    "### Add the slider and callback\n",
    "Last, but not least, we add the slider widget and the JS callback code which changes the data of the renderer_source (powering the bubbles / circles) and the data of the text_source (powering background text). After we've set() the `data` we need to trigger() a `change`. slider, renderer_source, text_source are all available because we add them as args to Callback.\n",
    "\n",
    "It is the combination of `sources = %s % (js_source_array)` in the JS and `Callback(args=sources...)` that provides the ability to look-up, by year, the JS version of our python-made ColumnDataSource."
   ]
  },
  {
   "cell_type": "code",
   "execution_count": 8,
   "metadata": {},
   "outputs": [],
   "source": [
    "# Add the slider\n",
    "code = \"\"\"\n",
    "    var year = slider.get('value'),\n",
    "        sources = %s,\n",
    "        new_source_data = sources[year].get('data');\n",
    "    renderer_source.set('data', new_source_data);\n",
    "    text_source.set('data', {'year': [String(year)]});\n",
    "\"\"\" % js_source_array\n",
    "\n",
    "callback = CustomJS(args=sources, code=code)\n",
    "slider = Slider(start=years[0], end=years[-1], value=1, step=1, title=\"Year\", callback=callback, name='testy')\n",
    "callback.args[\"renderer_source\"] = renderer_source\n",
    "callback.args[\"slider\"] = slider\n",
    "callback.args[\"text_source\"] = text_source"
   ]
  },
  {
   "cell_type": "markdown",
   "metadata": {},
   "source": [
    "## Embed in a template and render\n",
    "Last but not least, we use vplot to stick togethre the chart and the slider. And we embed that in a template we write using the script, div output from components.\n",
    "\n",
    "We display it in IPython and save it as an html file."
   ]
  },
  {
   "cell_type": "code",
   "execution_count": 1,
   "metadata": {
    "scrolled": false
   },
   "outputs": [
    {
     "ename": "NameError",
     "evalue": "name 'vplot' is not defined",
     "output_type": "error",
     "traceback": [
      "\u001b[0;31m---------------------------------------------------------------------------\u001b[0m",
      "\u001b[0;31mNameError\u001b[0m                                 Traceback (most recent call last)",
      "\u001b[0;32m<ipython-input-1-5d88e918c3c6>\u001b[0m in \u001b[0;36m<module>\u001b[0;34m()\u001b[0m\n\u001b[1;32m      1\u001b[0m \u001b[0;31m# Stick the plot and the slider together\u001b[0m\u001b[0;34m\u001b[0m\u001b[0;34m\u001b[0m\u001b[0m\n\u001b[0;32m----> 2\u001b[0;31m \u001b[0mlayout\u001b[0m \u001b[0;34m=\u001b[0m \u001b[0mvplot\u001b[0m\u001b[0;34m(\u001b[0m\u001b[0mplot\u001b[0m\u001b[0;34m,\u001b[0m \u001b[0mslider\u001b[0m\u001b[0;34m)\u001b[0m\u001b[0;34m\u001b[0m\u001b[0m\n\u001b[0m\u001b[1;32m      3\u001b[0m \u001b[0;34m\u001b[0m\u001b[0m\n\u001b[1;32m      4\u001b[0m \u001b[0;31m# Open our custom template\u001b[0m\u001b[0;34m\u001b[0m\u001b[0;34m\u001b[0m\u001b[0m\n\u001b[1;32m      5\u001b[0m \u001b[0;32mwith\u001b[0m \u001b[0mopen\u001b[0m\u001b[0;34m(\u001b[0m\u001b[0;34m'gapminder_template.jinja'\u001b[0m\u001b[0;34m,\u001b[0m \u001b[0;34m'r'\u001b[0m\u001b[0;34m)\u001b[0m \u001b[0;32mas\u001b[0m \u001b[0mf\u001b[0m\u001b[0;34m:\u001b[0m\u001b[0;34m\u001b[0m\u001b[0m\n",
      "\u001b[0;31mNameError\u001b[0m: name 'vplot' is not defined"
     ]
    }
   ],
   "source": [
    "# Stick the plot and the slider together\n",
    "layout = vplot(plot, slider)\n",
    "\n",
    "# Open our custom template\n",
    "with open('gapminder_template.jinja', 'r') as f:\n",
    "    template = Template(f.read())\n",
    "\n",
    "# Use inline resources\n",
    "js_resources = JSResources(mode='inline')    \n",
    "html = file_html(layout, None, \"Bokeh - Gapminder Bubble Plot\", template=template, js_resources=js_resources)\n",
    "\n",
    "display(HTML(html))"
   ]
  },
  {
   "cell_type": "code",
   "execution_count": null,
   "metadata": {
    "collapsed": true
   },
   "outputs": [],
   "source": []
  }
 ],
 "metadata": {
  "environment": {
   "name": "bokeh_dev"
  },
  "kernelspec": {
   "display_name": "Python 3",
   "language": "python",
   "name": "python3"
  },
  "language_info": {
   "codemirror_mode": {
    "name": "ipython",
    "version": 3
   },
   "file_extension": ".py",
   "mimetype": "text/x-python",
   "name": "python",
   "nbconvert_exporter": "python",
   "pygments_lexer": "ipython3",
   "version": "3.6.6"
  }
 },
 "nbformat": 4,
 "nbformat_minor": 1
}
